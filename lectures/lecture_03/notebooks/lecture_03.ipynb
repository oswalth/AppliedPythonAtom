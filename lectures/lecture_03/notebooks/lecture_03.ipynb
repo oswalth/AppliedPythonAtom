{
 "cells": [
  {
   "cell_type": "markdown",
   "metadata": {},
   "source": [
    "# Декораторы"
   ]
  },
  {
   "cell_type": "code",
   "execution_count": null,
   "metadata": {},
   "outputs": [],
   "source": [
    "def foo(x):\n",
    "    print(x + 1)\n",
    "\n",
    "\n",
    "def decorator(foo):\n",
    "    def _dec(*args, **kwargs):\n",
    "        print(\"inside decorator\")\n",
    "        res = foo(*args, **kwargs)\n",
    "        return res\n",
    "    \n",
    "    return _dec"
   ]
  },
  {
   "cell_type": "code",
   "execution_count": null,
   "metadata": {},
   "outputs": [],
   "source": [
    "foo(1)"
   ]
  },
  {
   "cell_type": "code",
   "execution_count": null,
   "metadata": {},
   "outputs": [],
   "source": [
    "foo = decorator(foo)\n",
    "foo(1)"
   ]
  },
  {
   "cell_type": "markdown",
   "metadata": {},
   "source": [
    "### В Python есть специальный синтаксис, который позволяет переместить модификацию функции ближе к моменту объявления функции:"
   ]
  },
  {
   "cell_type": "code",
   "execution_count": null,
   "metadata": {},
   "outputs": [],
   "source": [
    "@decorator\n",
    "def foo(x):\n",
    "    \"\"\"\n",
    "    foo description\n",
    "    \"\"\"\n",
    "    print(x + 1)"
   ]
  },
  {
   "cell_type": "code",
   "execution_count": null,
   "metadata": {},
   "outputs": [],
   "source": [
    "foo(1)"
   ]
  },
  {
   "cell_type": "markdown",
   "metadata": {},
   "source": [
    "### Есть небольшая проблема:"
   ]
  },
  {
   "cell_type": "code",
   "execution_count": null,
   "metadata": {},
   "outputs": [],
   "source": [
    "foo.__name__, foo.__doc__"
   ]
  },
  {
   "cell_type": "markdown",
   "metadata": {},
   "source": [
    "#### Еще \"пропадает\" ```__module__```\n",
    "#### Что делать?"
   ]
  },
  {
   "cell_type": "code",
   "execution_count": null,
   "metadata": {},
   "outputs": [],
   "source": [
    "def decorator(foo):\n",
    "    def _dec(*args, **kwargs):\n",
    "        res = foo(*args, **kwargs)\n",
    "        return res\n",
    "    \n",
    "    _dec.__name__ = foo.__name__\n",
    "    _dec.__doc__ = foo.__doc__\n",
    "    _dec.__module__ = foo.__module__\n",
    "    \n",
    "    return _dec\n",
    "\n",
    "\n",
    "@decorator\n",
    "def foo(x):\n",
    "    \"\"\"\n",
    "    foo description\n",
    "    \"\"\"\n",
    "    print(x + 1)"
   ]
  },
  {
   "cell_type": "code",
   "execution_count": null,
   "metadata": {
    "scrolled": true
   },
   "outputs": [],
   "source": [
    "foo.__name__, foo.__doc__"
   ]
  },
  {
   "cell_type": "markdown",
   "metadata": {},
   "source": [
    "#### Но это сложно, можно проще.\n",
    "#### Воспользуемся декоратором ```wraps``` из пакета ```functools``` <i>(подробнее про этот пакет чуть позже)</i>"
   ]
  },
  {
   "cell_type": "code",
   "execution_count": null,
   "metadata": {},
   "outputs": [],
   "source": [
    "from functools import wraps\n",
    "\n",
    "\n",
    "def decorator(foo):\n",
    "    @wraps(foo)\n",
    "    def _dec(*args, **kwargs):\n",
    "        res = foo(*args, **kwargs)\n",
    "        return res\n",
    "    \n",
    "    return _dec\n",
    "\n",
    "\n",
    "@decorator\n",
    "def foo(x):\n",
    "    \"\"\"\n",
    "    foo description\n",
    "    \"\"\"\n",
    "    print(x + 1)"
   ]
  },
  {
   "cell_type": "code",
   "execution_count": null,
   "metadata": {},
   "outputs": [],
   "source": [
    "foo.__name__, foo.__doc__"
   ]
  },
  {
   "cell_type": "markdown",
   "metadata": {},
   "source": [
    "### Декораторов может быть несколько:"
   ]
  },
  {
   "cell_type": "code",
   "execution_count": null,
   "metadata": {},
   "outputs": [],
   "source": [
    "def dec1(func):\n",
    "    @wraps(func)\n",
    "    def _dec(*args, **kwargs):\n",
    "        print(\"inside dec1\")\n",
    "        res = func(*args, **kwargs)\n",
    "        return res\n",
    "        \n",
    "    return _dec\n",
    "\n",
    "\n",
    "def dec2(func):\n",
    "    @wraps(func)\n",
    "    def _dec(*args, **kwargs):\n",
    "        print(\"inside dec2\")\n",
    "        res = func(*args, **kwargs)\n",
    "        return res\n",
    "        \n",
    "    return _dec"
   ]
  },
  {
   "cell_type": "code",
   "execution_count": null,
   "metadata": {},
   "outputs": [],
   "source": [
    "@dec2\n",
    "@dec1\n",
    "def func(arg1, arg2):\n",
    "    pass"
   ]
  },
  {
   "cell_type": "code",
   "execution_count": null,
   "metadata": {},
   "outputs": [],
   "source": [
    "func(1, 2)"
   ]
  },
  {
   "cell_type": "markdown",
   "metadata": {},
   "source": [
    "#### Это же самое, что:"
   ]
  },
  {
   "cell_type": "code",
   "execution_count": null,
   "metadata": {},
   "outputs": [],
   "source": [
    "def func(arg1, arg2):\n",
    "    pass"
   ]
  },
  {
   "cell_type": "code",
   "execution_count": null,
   "metadata": {},
   "outputs": [],
   "source": [
    "func = dec2(dec1(func))"
   ]
  },
  {
   "cell_type": "code",
   "execution_count": null,
   "metadata": {},
   "outputs": [],
   "source": [
    "func(1, 2)"
   ]
  },
  {
   "cell_type": "markdown",
   "metadata": {},
   "source": [
    "### Вопрос [?]"
   ]
  },
  {
   "cell_type": "code",
   "execution_count": null,
   "metadata": {},
   "outputs": [],
   "source": [
    "flag = False\n",
    "\n",
    "\n",
    "def decorator(func):\n",
    "    @wraps(func)\n",
    "    def _dec(*args, **kwargs):\n",
    "        print(\"inside _dec\")\n",
    "        res = func(*args, **kwargs)\n",
    "        return res\n",
    "    \n",
    "    return func if flag else _dec\n",
    "\n",
    "\n",
    "@decorator\n",
    "def func():\n",
    "    pass"
   ]
  },
  {
   "cell_type": "code",
   "execution_count": null,
   "metadata": {},
   "outputs": [],
   "source": [
    "func()"
   ]
  },
  {
   "cell_type": "markdown",
   "metadata": {},
   "source": [
    "#### Что будет?"
   ]
  },
  {
   "cell_type": "code",
   "execution_count": null,
   "metadata": {},
   "outputs": [],
   "source": [
    "flag = True\n",
    "func()"
   ]
  },
  {
   "cell_type": "markdown",
   "metadata": {},
   "source": [
    "### В декоратор можно передавать аргументы:"
   ]
  },
  {
   "cell_type": "code",
   "execution_count": null,
   "metadata": {},
   "outputs": [],
   "source": [
    "def decorator_with_args(dec_argument):\n",
    "    def _decorator(func):\n",
    "        @wraps(func)\n",
    "        def _dec(*args, **kwargs):\n",
    "            print(f\"inside decorator; {dec_argument}\")\n",
    "            res = func(*args, **kwargs)\n",
    "            return res\n",
    "        \n",
    "        return _dec\n",
    "    return _decorator"
   ]
  },
  {
   "cell_type": "code",
   "execution_count": null,
   "metadata": {},
   "outputs": [],
   "source": [
    "@decorator_with_args(\"hop hey lala ley\")\n",
    "def func(x):\n",
    "    pass"
   ]
  },
  {
   "cell_type": "code",
   "execution_count": null,
   "metadata": {
    "scrolled": true
   },
   "outputs": [],
   "source": [
    "func(None)"
   ]
  },
  {
   "cell_type": "markdown",
   "metadata": {},
   "source": [
    "#### Это то же самое, что:"
   ]
  },
  {
   "cell_type": "code",
   "execution_count": null,
   "metadata": {},
   "outputs": [],
   "source": [
    "def decorator_with_args(dec_argument):\n",
    "    def _decorator(func):\n",
    "        @wraps(func)\n",
    "        def _dec(*args, **kwargs):\n",
    "            print(f\"inside decorator; {dec_argument}\")\n",
    "            res = func(*args, **kwargs)\n",
    "            return res\n",
    "        \n",
    "        return _dec\n",
    "    return _decorator"
   ]
  },
  {
   "cell_type": "code",
   "execution_count": null,
   "metadata": {},
   "outputs": [],
   "source": [
    "def func(x):\n",
    "    pass"
   ]
  },
  {
   "cell_type": "code",
   "execution_count": null,
   "metadata": {},
   "outputs": [],
   "source": [
    "decorator = decorator_with_args(\"hop hey lala ley\")  # получим тут декоратор\n",
    "func = decorator(func)  # получим модифицированную функцию"
   ]
  },
  {
   "cell_type": "code",
   "execution_count": null,
   "metadata": {},
   "outputs": [],
   "source": [
    "func(None)"
   ]
  },
  {
   "cell_type": "markdown",
   "metadata": {},
   "source": [
    "#### А если мы хотим опциональные аргументы?"
   ]
  },
  {
   "cell_type": "code",
   "execution_count": null,
   "metadata": {},
   "outputs": [],
   "source": [
    "def decorator_with_optional_arguments(func=None, *, dec_argument=\"default\"):\n",
    "    if func is None:\n",
    "        return lambda func: decorator_with_optional_arguments(func, dec_argument=dec_argument)\n",
    "    @wraps(func)\n",
    "    def _dec(*args, **kwargs):\n",
    "        print(f\"inside decorator; {dec_argument}\")\n",
    "        res = func(*args, **kwargs)\n",
    "        return res\n",
    "    \n",
    "    return _dec"
   ]
  },
  {
   "cell_type": "code",
   "execution_count": null,
   "metadata": {},
   "outputs": [],
   "source": [
    "@decorator_with_optional_arguments(dec_argument=\"Life is beatiful\")\n",
    "def func1():\n",
    "    pass\n",
    "\n",
    "\n",
    "func1()"
   ]
  },
  {
   "cell_type": "code",
   "execution_count": null,
   "metadata": {},
   "outputs": [],
   "source": [
    "@decorator_with_optional_arguments\n",
    "def func2():\n",
    "    pass\n",
    "\n",
    "\n",
    "func2()"
   ]
  },
  {
   "cell_type": "markdown",
   "metadata": {},
   "source": [
    "### Несколько примеров полезных декораторов"
   ]
  },
  {
   "cell_type": "markdown",
   "metadata": {},
   "source": [
    "#### Посчитать, сколько раз выполнялась функция:"
   ]
  },
  {
   "cell_type": "code",
   "execution_count": null,
   "metadata": {},
   "outputs": [],
   "source": [
    "def profiled(func):\n",
    "    @wraps(func)\n",
    "    def inner(*args, **kwargs):\n",
    "        inner.ncalls += 1\n",
    "        return func(*args, **kwargs)\n",
    "    inner.ncalls = 0\n",
    "    return inner"
   ]
  },
  {
   "cell_type": "code",
   "execution_count": null,
   "metadata": {
    "scrolled": true
   },
   "outputs": [],
   "source": [
    "@profiled\n",
    "def f():\n",
    "    pass\n",
    "\n",
    "\n",
    "for i in range(1000):\n",
    "    f()\n",
    "    \n",
    "    \n",
    "print(f.ncalls)"
   ]
  },
  {
   "cell_type": "markdown",
   "metadata": {},
   "source": [
    "#### Декоратор, для вызова декорируемой функции только 1 раз"
   ]
  },
  {
   "cell_type": "code",
   "execution_count": null,
   "metadata": {},
   "outputs": [],
   "source": [
    "# TODO\n",
    "def once(func):\n",
    "    pass"
   ]
  },
  {
   "cell_type": "markdown",
   "metadata": {},
   "source": [
    "* [contextlib.contextmanager](https://docs.python.org/3.5/library/contextlib.html#contextlib.contextmanager)\n",
    "* [functools.lru_cache](https://docs.python.org/3.5/library/functools.html#functools.lru_cache)\n",
    "* почти все в [pycontracts](https://andreacensi.github.io/contracts/)\n",
    "* @classmethod и @staticmethod\n",
    "* @property\n",
    "* @abstractmethod\n",
    "\n",
    "..."
   ]
  },
  {
   "cell_type": "markdown",
   "metadata": {},
   "source": [
    "# Области видимости"
   ]
  },
  {
   "cell_type": "code",
   "execution_count": null,
   "metadata": {},
   "outputs": [],
   "source": [
    "print(min)  # build-in\n",
    "\n",
    "a = 0  # global\n",
    "b = 1  # global\n",
    "\n",
    "\n",
    "def g():\n",
    "    a = -1  # enclosing\n",
    "    b = -2  # enclosing\n",
    "    \n",
    "    def f():\n",
    "        a = 1  # local\n",
    "        b = 2  # local\n",
    "\n",
    "        print(\"locals: \", locals())\n",
    "\n",
    "        print(\"a in globals=\", globals()[\"a\"], sep=\"\")\n",
    "        print(\"b in globals=\", globals()[\"b\"], sep=\"\")\n",
    "        \n",
    "    f()\n",
    "    \n",
    "    \n",
    "g()"
   ]
  },
  {
   "cell_type": "markdown",
   "metadata": {},
   "source": [
    "### А что с присваиванием?"
   ]
  },
  {
   "cell_type": "code",
   "execution_count": null,
   "metadata": {},
   "outputs": [],
   "source": [
    "a = -1  # global\n",
    "\n",
    "\n",
    "def f():\n",
    "    try:\n",
    "        a += 1  # local\n",
    "    except UnboundLocalError:\n",
    "        print(\"Catch UnboundLocalError\")\n",
    "\n",
    "\n",
    "f()"
   ]
  },
  {
   "cell_type": "markdown",
   "metadata": {},
   "source": [
    "#### Можно ли как-то присвоить? Да!"
   ]
  },
  {
   "cell_type": "code",
   "execution_count": null,
   "metadata": {},
   "outputs": [],
   "source": [
    "a = -1  # global\n",
    "\n",
    "\n",
    "def f():\n",
    "    globals()[\"a\"] += 1  # local\n",
    "\n",
    "\n",
    "f()\n",
    "print(a)"
   ]
  },
  {
   "cell_type": "markdown",
   "metadata": {},
   "source": [
    "#### Или так:"
   ]
  },
  {
   "cell_type": "code",
   "execution_count": null,
   "metadata": {},
   "outputs": [],
   "source": [
    "a = -1  # global\n",
    "\n",
    "\n",
    "def f():\n",
    "    global a\n",
    "    a += 1  # local\n",
    "    print(a)\n",
    "\n",
    "\n",
    "f()"
   ]
  },
  {
   "cell_type": "markdown",
   "metadata": {},
   "source": [
    "#### Для ```enclosing```, соответственно, вот так вот:"
   ]
  },
  {
   "cell_type": "code",
   "execution_count": null,
   "metadata": {},
   "outputs": [],
   "source": [
    "def g():\n",
    "    a = -1  # enclosing\n",
    "\n",
    "    def f():\n",
    "        nonlocal a\n",
    "        a += 1  # local\n",
    "\n",
    "    f()\n",
    "    print(a)\n",
    "    \n",
    "    \n",
    "g()"
   ]
  },
  {
   "cell_type": "markdown",
   "metadata": {},
   "source": [
    "# Дескрипторы"
   ]
  },
  {
   "cell_type": "markdown",
   "metadata": {},
   "source": [
    "### @property"
   ]
  },
  {
   "cell_type": "code",
   "execution_count": null,
   "metadata": {},
   "outputs": [],
   "source": [
    "class SomeBank:\n",
    "    \n",
    "    def __init__(self, start):\n",
    "        self._rubles = start\n",
    "        \n",
    "    @property\n",
    "    def rubles(self):\n",
    "        return self._rubles\n",
    "    \n",
    "    @rubles.setter\n",
    "    def rubles(self, value):\n",
    "        if value > 0:\n",
    "            self._rubles = value\n",
    "        else:\n",
    "            raise Exception('You shall not pass!')\n",
    "\n",
    "    @rubles.deleter\n",
    "    def rubles(self, value):\n",
    "        del self._rubles"
   ]
  },
  {
   "cell_type": "code",
   "execution_count": null,
   "metadata": {},
   "outputs": [],
   "source": [
    "interv = SomeBank(6000)"
   ]
  },
  {
   "cell_type": "code",
   "execution_count": null,
   "metadata": {},
   "outputs": [],
   "source": [
    "interv.rubles"
   ]
  },
  {
   "cell_type": "code",
   "execution_count": null,
   "metadata": {},
   "outputs": [],
   "source": [
    "interv.rubles = 4242"
   ]
  },
  {
   "cell_type": "code",
   "execution_count": null,
   "metadata": {},
   "outputs": [],
   "source": [
    "interv.rubles = -32"
   ]
  },
  {
   "cell_type": "markdown",
   "metadata": {},
   "source": [
    "### \\_\\_get__(), \\_\\_set__() и \\_\\_delete__(), "
   ]
  },
  {
   "cell_type": "code",
   "execution_count": null,
   "metadata": {},
   "outputs": [],
   "source": [
    "class Descr:\n",
    "    def __get__(self, instance, owner):\n",
    "        print(instance, owner)\n",
    "        \n",
    "    def __set__(self, instance, value):\n",
    "        print(instance, value)\n",
    "        \n",
    "    def __delete__(self, instance):\n",
    "        print(instance)\n",
    "        \n",
    "    \n",
    "class A:\n",
    "    attr = Descr()"
   ]
  },
  {
   "cell_type": "code",
   "execution_count": null,
   "metadata": {},
   "outputs": [],
   "source": [
    "A().attr"
   ]
  },
  {
   "cell_type": "code",
   "execution_count": null,
   "metadata": {},
   "outputs": [],
   "source": [
    "A.attr"
   ]
  },
  {
   "cell_type": "code",
   "execution_count": null,
   "metadata": {},
   "outputs": [],
   "source": [
    "A().attr = 42"
   ]
  },
  {
   "cell_type": "markdown",
   "metadata": {},
   "source": [
    "#### Что будет?"
   ]
  },
  {
   "cell_type": "code",
   "execution_count": null,
   "metadata": {},
   "outputs": [],
   "source": [
    "A.attr = 42"
   ]
  },
  {
   "cell_type": "code",
   "execution_count": null,
   "metadata": {},
   "outputs": [],
   "source": [
    "del A().attr"
   ]
  },
  {
   "cell_type": "code",
   "execution_count": null,
   "metadata": {},
   "outputs": [],
   "source": [
    "del A.attr"
   ]
  },
  {
   "cell_type": "markdown",
   "metadata": {},
   "source": [
    "### Хм"
   ]
  },
  {
   "cell_type": "markdown",
   "metadata": {},
   "source": [
    "* `instance` -- экз. класса\n",
    "* `attr` -- атрибут (который дескриптор)\n",
    "* `descr = cls.\\_\\_dict__[\"attr\"]` -- сам дескриптор"
   ]
  },
  {
   "cell_type": "code",
   "execution_count": null,
   "metadata": {},
   "outputs": [],
   "source": [
    "instance = A()\n",
    "descr = A.__dict__[\"attr\"]"
   ]
  },
  {
   "cell_type": "markdown",
   "metadata": {},
   "source": [
    "####  Тогда:"
   ]
  },
  {
   "cell_type": "code",
   "execution_count": null,
   "metadata": {},
   "outputs": [],
   "source": [
    "A.attr\n",
    "descr.__get__(None, A)"
   ]
  },
  {
   "cell_type": "code",
   "execution_count": null,
   "metadata": {},
   "outputs": [],
   "source": [
    "instance.attr\n",
    "descr.__get__(instance, A)"
   ]
  },
  {
   "cell_type": "code",
   "execution_count": null,
   "metadata": {},
   "outputs": [],
   "source": [
    "instance.attr = 42\n",
    "descr.__set__(instance, 42)"
   ]
  },
  {
   "cell_type": "code",
   "execution_count": null,
   "metadata": {},
   "outputs": [],
   "source": [
    "del instance.attr\n",
    "descr.__delete__(instance)"
   ]
  },
  {
   "cell_type": "markdown",
   "metadata": {},
   "source": [
    "### Вопрос [?]"
   ]
  },
  {
   "cell_type": "markdown",
   "metadata": {},
   "source": [
    "#### Где хранить данные дескриптору?"
   ]
  },
  {
   "cell_type": "markdown",
   "metadata": {},
   "source": [
    "### Еще Вопрос [?]"
   ]
  },
  {
   "cell_type": "markdown",
   "metadata": {},
   "source": [
    "#### Как вы думаете, как работают методы в Python?"
   ]
  },
  {
   "cell_type": "markdown",
   "metadata": {},
   "source": [
    "`types.MethodType`\n",
    "\n",
    "* http://stupidpythonideas.blogspot.com/2013/06/how-methods-work.html\n",
    "* http://igorsobreira.com/2011/02/06/adding-methods-dynamically-in-python.html"
   ]
  },
  {
   "cell_type": "markdown",
   "metadata": {},
   "source": [
    "# Наследование и MRO"
   ]
  },
  {
   "cell_type": "code",
   "execution_count": null,
   "metadata": {},
   "outputs": [],
   "source": [
    "class Parent:\n",
    "    def print_hello(self):\n",
    "        print(f\"Hello from {self.__class__}!\")\n",
    "        \n",
    "\n",
    "class Child(Parent):\n",
    "    pass"
   ]
  },
  {
   "cell_type": "code",
   "execution_count": null,
   "metadata": {},
   "outputs": [],
   "source": [
    "parent = Parent()\n",
    "child = Child()\n",
    "\n",
    "parent.print_hello()\n",
    "child.print_hello()"
   ]
  },
  {
   "cell_type": "markdown",
   "metadata": {},
   "source": [
    "###  Пример неочевидного множественного наследования:"
   ]
  },
  {
   "cell_type": "code",
   "execution_count": null,
   "metadata": {},
   "outputs": [],
   "source": [
    "class God(object):\n",
    "    def dd(self):\n",
    "        print('Me God')\n",
    "        \n",
    "class Adam(God):\n",
    "    def dd(self):\n",
    "        print('Adam')\n",
    "        super().dd()\n",
    "        \n",
    "class Eva(God): \n",
    "    def dd(self):\n",
    "        print('Eva')\n",
    "        super().dd()\n",
    "        \n",
    "class Ramon(Adam, Eva):\n",
    "    def dd(self):\n",
    "        print('Ramon')\n",
    "        super().dd()\n",
    "        \n",
    "class Gayle(Adam, Eva):\n",
    "    def dd(self):\n",
    "        print('Gayle')\n",
    "        super().dd()\n",
    "        \n",
    "class Raymond(Ramon, Gayle):\n",
    "    def dd(self):\n",
    "        print('Raymond')\n",
    "        super().dd()\n",
    "\n",
    "class Dennis(Adam, Eva): \n",
    "    def dd(self):\n",
    "        print('Dennis')\n",
    "        super().dd()\n",
    "        \n",
    "class Sharon(Adam, Eva): \n",
    "    def dd(self):\n",
    "        print('Sharon')\n",
    "        super().dd()\n",
    "        \n",
    "class Rachel(Dennis, Sharon): \n",
    "    def dd(self):\n",
    "        print('Rachel')\n",
    "        super().dd()\n",
    "\n",
    "class Mattew(Raymond, Rachel): \n",
    "    def dd(self):\n",
    "        print('Rachel')\n",
    "        super().dd()"
   ]
  },
  {
   "cell_type": "code",
   "execution_count": null,
   "metadata": {},
   "outputs": [],
   "source": [
    "Mattew.__mro__"
   ]
  },
  {
   "cell_type": "code",
   "execution_count": null,
   "metadata": {},
   "outputs": [],
   "source": [
    "mattew = Mattew()\n",
    "\n",
    "mattew.dd()"
   ]
  }
 ],
 "metadata": {
  "kernelspec": {
   "display_name": "Python 3",
   "language": "python",
   "name": "python3"
  },
  "language_info": {
   "codemirror_mode": {
    "name": "ipython",
    "version": 3
   },
   "file_extension": ".py",
   "mimetype": "text/x-python",
   "name": "python",
   "nbconvert_exporter": "python",
   "pygments_lexer": "ipython3",
   "version": "3.7.0"
  }
 },
 "nbformat": 4,
 "nbformat_minor": 2
}
