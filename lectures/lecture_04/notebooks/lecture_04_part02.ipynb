{
 "cells": [
  {
   "cell_type": "markdown",
   "metadata": {},
   "source": [
    "# Процессы"
   ]
  },
  {
   "cell_type": "code",
   "execution_count": 1,
   "metadata": {},
   "outputs": [],
   "source": [
    "import random\n",
    "import os\n",
    "import time\n",
    "import threading\n",
    "import multiprocessing\n",
    "import os"
   ]
  },
  {
   "cell_type": "code",
   "execution_count": 2,
   "metadata": {},
   "outputs": [],
   "source": [
    "# Типы задач\n",
    "def cpu_bound_task(n):\n",
    "    def fib(n):\n",
    "        if n == 0:\n",
    "            return 0\n",
    "        elif n == 1:\n",
    "            return 1\n",
    "        return fib(n-1) + fib(n-2)\n",
    "\n",
    "    print(f'{n} -> {fib(n)}')\n",
    "\n",
    "\n",
    "def io_bound_task(ind):\n",
    "    print(f'start task {ind}')\n",
    "    time.sleep(5)\n",
    "    print(f'finish task {ind}\\n', end='')"
   ]
  },
  {
   "cell_type": "code",
   "execution_count": 3,
   "metadata": {},
   "outputs": [
    {
     "name": "stdout",
     "output_type": "stream",
     "text": [
      "20 -> 6765\n",
      "15 -> 610\n",
      "10 -> 55\n",
      "25 -> 75025\n",
      "30 -> 832040\n",
      "31 -> 1346269\n",
      "32 -> 2178309\n",
      "33 -> 3524578\n",
      "34 -> 5702887\n",
      "35 -> 9227465\n",
      "36 -> 14930352\n",
      "CPU times: user 25.6 s, sys: 386 ms, total: 26 s\n",
      "Wall time: 26.9 s\n"
     ]
    }
   ],
   "source": [
    "%%time\n",
    "\n",
    "# CPU bound задача на потоках\n",
    "tasks = []\n",
    "\n",
    "for number in [36, 35, 34, 33, 32, 31, 30, 25, 20, 15, 10]:\n",
    "    task = threading.Thread(target=cpu_bound_task, args=(number,))\n",
    "    tasks.append(task)\n",
    "    task.start()\n",
    "\n",
    "for task in tasks:\n",
    "    task.join()"
   ]
  },
  {
   "cell_type": "code",
   "execution_count": 4,
   "metadata": {},
   "outputs": [
    {
     "name": "stdout",
     "output_type": "stream",
     "text": [
      "15 -> 610\n",
      "10 -> 55\n",
      "20 -> 6765\n",
      "25 -> 75025\n",
      "30 -> 832040\n",
      "31 -> 1346269\n",
      "32 -> 2178309\n",
      "33 -> 3524578\n",
      "34 -> 5702887\n",
      "35 -> 9227465\n",
      "36 -> 14930352\n",
      "CPU times: user 20.2 ms, sys: 38.2 ms, total: 58.4 ms\n",
      "Wall time: 17.7 s\n"
     ]
    }
   ],
   "source": [
    "%%time\n",
    "\n",
    "# CPU bound задача на процессах\n",
    "tasks = []\n",
    "\n",
    "for number in [36, 35, 34, 33, 32, 31, 30, 25, 20, 15, 10]:\n",
    "    task = multiprocessing.Process(target=cpu_bound_task, args=(number,))\n",
    "    tasks.append(task)\n",
    "    task.start()\n",
    "\n",
    "for task in tasks:\n",
    "    task.join()\n"
   ]
  },
  {
   "cell_type": "code",
   "execution_count": 5,
   "metadata": {},
   "outputs": [
    {
     "name": "stdout",
     "output_type": "stream",
     "text": [
      "start task 0\n",
      "start task 1\n",
      "start task 2\n",
      "start task 3\n",
      "start task 4\n",
      "start task 5\n",
      "start task 6\n",
      "start task 7\n",
      "start task 8\n",
      "start task 9\n",
      "finish task 0\n",
      "finish task 2\n",
      "finish task 1\n",
      "finish task 3\n",
      "finish task 4\n",
      "finish task 5\n",
      "finish task 6\n",
      "finish task 7\n",
      "finish task 8\n",
      "finish task 9\n",
      "CPU times: user 11.1 ms, sys: 9.62 ms, total: 20.7 ms\n",
      "Wall time: 5.03 s\n"
     ]
    }
   ],
   "source": [
    "%%time\n",
    "\n",
    "# IO bound задача на потоках\n",
    "tasks = []\n",
    "\n",
    "for ind in range(10):\n",
    "    task = threading.Thread(target=io_bound_task, args=(ind,))\n",
    "    tasks.append(task)\n",
    "    task.start()\n",
    "\n",
    "for task in tasks:\n",
    "    task.join()"
   ]
  },
  {
   "cell_type": "code",
   "execution_count": 6,
   "metadata": {},
   "outputs": [
    {
     "name": "stdout",
     "output_type": "stream",
     "text": [
      "start task 1\n",
      "start task 2\n",
      "start task 0\n",
      "start task 3\n",
      "start task 4\n",
      "start task 5\n",
      "start task 6\n",
      "start task 7\n",
      "start task 8\n",
      "start task 9\n",
      "finish task 1\n",
      "finish task 0\n",
      "finish task 2\n",
      "finish task 3\n",
      "finish task 4\n",
      "finish task 5\n",
      "finish task 7\n",
      "finish task 6\n",
      "finish task 8\n",
      "finish task 9\n",
      "CPU times: user 27.2 ms, sys: 47 ms, total: 74.2 ms\n",
      "Wall time: 5.14 s\n"
     ]
    }
   ],
   "source": [
    "%%time\n",
    "\n",
    "# IO bound задача на процессах\n",
    "tasks = []\n",
    "\n",
    "for ind in range(10):\n",
    "    task = multiprocessing.Process(target=io_bound_task, args=(ind,))\n",
    "    tasks.append(task)\n",
    "    task.start()\n",
    "\n",
    "for task in tasks:\n",
    "    task.join()"
   ]
  },
  {
   "cell_type": "code",
   "execution_count": 7,
   "metadata": {},
   "outputs": [
    {
     "name": "stdout",
     "output_type": "stream",
     "text": [
      "start task 2 with 39757\n",
      "start task 0 with 39755\n",
      "start task 1 with 39756\n",
      "start task 4 with 39759\n",
      "start task 3 with 39758\n",
      "start task 6 with 39761\n",
      "start task 5 with 39760\n",
      "start task 7 with 39762\n",
      "start task 8 with 39763\n",
      "start task 9 with 39764\n",
      "finish task 0\n",
      "finish task 2\n",
      "finish task 1\n",
      "finish task 4\n",
      "finish task 3\n",
      "finish task 5\n",
      "finish task 6\n",
      "finish task 7\n",
      "finish task 8\n",
      "finish task 9\n"
     ]
    }
   ],
   "source": [
    "# Получение идентификатора процесса\n",
    "def io_bound_task(ind):\n",
    "    print(f'start task {ind} with {os.getpid()}')\n",
    "    time.sleep(30)\n",
    "    print(f'finish task {ind}')\n",
    "    \n",
    "tasks = []\n",
    "\n",
    "for ind in range(10):\n",
    "    task = multiprocessing.Process(target=io_bound_task, args=(ind,))\n",
    "    tasks.append(task)\n",
    "    task.start()\n",
    "\n",
    "for task in tasks:\n",
    "    task.join()"
   ]
  },
  {
   "cell_type": "code",
   "execution_count": 8,
   "metadata": {},
   "outputs": [
    {
     "name": "stdout",
     "output_type": "stream",
     "text": [
      "[39767, 39768, 39769, 39767, 39768]\n"
     ]
    }
   ],
   "source": [
    "# Пулл процессов\n",
    "from multiprocessing import Pool\n",
    "\n",
    "def getpid(n):\n",
    "    time.sleep(2)\n",
    "    return os.getpid()\n",
    "\n",
    "with Pool(3) as p:\n",
    "    print(p.map(getpid, range(5)))"
   ]
  },
  {
   "cell_type": "code",
   "execution_count": 9,
   "metadata": {},
   "outputs": [
    {
     "name": "stdout",
     "output_type": "stream",
     "text": [
      "read 0\n",
      "read 0\n",
      "read 0\n",
      "write 1\n",
      "read 0\n",
      "write 1\n",
      "write 1\n",
      "read 0\n",
      "write 1\n",
      "write 1\n"
     ]
    }
   ],
   "source": [
    "# Шаринг ресурсов\n",
    "share_memory = {\n",
    "    'count': 0,\n",
    "}\n",
    "def share_memory_task():\n",
    "    print(f'read {share_memory[\"count\"]}')\n",
    "    share_memory['count'] += 1\n",
    "    print(f'write {share_memory[\"count\"]}')\n",
    "\n",
    "tasks = []\n",
    "\n",
    "for _ in range(5):\n",
    "    task = multiprocessing.Process(target=share_memory_task)\n",
    "    tasks.append(task)\n",
    "    task.start()\n",
    "    \n",
    "for task in tasks:\n",
    "    task.join()"
   ]
  },
  {
   "cell_type": "code",
   "execution_count": 10,
   "metadata": {},
   "outputs": [
    {
     "name": "stdout",
     "output_type": "stream",
     "text": [
      "read 0\n",
      "read 0\n",
      "read 0\n",
      "write 1\n",
      "write 1\n",
      "read 1\n",
      "write 1\n",
      "read 0\n",
      "read 1\n",
      "write 1\n",
      "write 2\n",
      "read 1\n",
      "write 2\n",
      "read 1\n",
      "write 2\n",
      "read 2\n",
      "write 2\n",
      "read 2\n",
      "write 3\n",
      "write 3\n",
      "COUNT: 3\n"
     ]
    }
   ],
   "source": [
    "# Шаринг ресурсов через файл\n",
    "filename = 'share_memory.tmp'\n",
    "\n",
    "with open(filename, 'w') as fd:\n",
    "    fd.write('0')\n",
    "\n",
    "def share_memory_task():\n",
    "    with open(filename) as fd:\n",
    "        count = int(fd.read())\n",
    "    print(f'read {count}')\n",
    "\n",
    "    with open(filename, 'w') as fd:\n",
    "        fd.write(str(count + 1))\n",
    "    print(f'write {count + 1}')\n",
    "\n",
    "\n",
    "tasks = []\n",
    "\n",
    "for _ in range(10):\n",
    "    task = multiprocessing.Process(target=share_memory_task)\n",
    "    tasks.append(task)\n",
    "    task.start()\n",
    "    \n",
    "for task in tasks:\n",
    "    task.join()\n",
    "\n",
    "with open(filename) as fd:\n",
    "    print(f'COUNT: {fd.read()}')"
   ]
  },
  {
   "cell_type": "code",
   "execution_count": 11,
   "metadata": {},
   "outputs": [
    {
     "name": "stdout",
     "output_type": "stream",
     "text": [
      "read 0\n",
      "read 0\n",
      "read 0\n",
      "write 1\n",
      "write 1\n",
      "read 0\n",
      "write 1\n",
      "read 1\n",
      "write 1\n",
      "read 1\n",
      "read 1\n",
      "write 2\n",
      "write 2\n",
      "write 2\n",
      "read 2\n",
      "read 2\n",
      "read 2\n",
      "write 3\n",
      "write 3\n",
      "write 3\n",
      "COUNT: 3\n"
     ]
    }
   ],
   "source": [
    "# Шаринг ресурсов через файл с блокировкой\n",
    "filename = 'share_memory.tmp'\n",
    "\n",
    "# TODO исправить ошибку\n",
    "# Ищите помощь в локументации https://docs.python.org/3.6/library/multiprocessing.html\n",
    "\n",
    "\n",
    "with open(filename, 'w') as fd:\n",
    "    fd.write('0')\n",
    "\n",
    "def share_memory_task():\n",
    "    with open(filename) as fd:\n",
    "        count = int(fd.read())\n",
    "    print(f'read {count}')\n",
    "\n",
    "    with open(filename, 'w') as fd:\n",
    "        fd.write(str(count + 1))\n",
    "    print(f'write {count + 1}')\n",
    "\n",
    "\n",
    "tasks = []\n",
    "\n",
    "for _ in range(10):\n",
    "    task = multiprocessing.Process(target=share_memory_task)\n",
    "    tasks.append(task)\n",
    "    task.start()\n",
    "    \n",
    "for task in tasks:\n",
    "    task.join()\n",
    "\n",
    "with open(filename) as fd:\n",
    "    print(f'COUNT: {fd.read()}')"
   ]
  },
  {
   "cell_type": "code",
   "execution_count": 12,
   "metadata": {},
   "outputs": [
    {
     "name": "stdout",
     "output_type": "stream",
     "text": [
      "read 0\n",
      "write 1\n",
      "read 1\n",
      "write 2\n",
      "read 2\n",
      "write 3\n",
      "read 3\n",
      "write 4\n",
      "read 4\n",
      "write 5\n",
      "read 5\n",
      "write 6\n",
      "read 6\n",
      "write 7\n",
      "read 7\n",
      "write 8\n",
      "read 8\n",
      "write 9\n",
      "read 9\n",
      "write 10\n",
      "COUNT: 10\n"
     ]
    }
   ],
   "source": [
    "# Шаринг ресурсов через очередь\n",
    "from multiprocessing import Queue\n",
    "\n",
    "q = Queue()\n",
    "q.put(0)\n",
    "\n",
    "def share_memory_task(q):\n",
    "    count = q.get()\n",
    "    print(f'read {count}')\n",
    "\n",
    "    q.put(count + 1)\n",
    "    print(f'write {count + 1}')\n",
    "\n",
    "\n",
    "tasks = []\n",
    "\n",
    "for _ in range(10):\n",
    "    task = multiprocessing.Process(target=share_memory_task, args=(q,))\n",
    "    tasks.append(task)\n",
    "    task.start()\n",
    "    \n",
    "for task in tasks:\n",
    "    task.join()\n",
    "\n",
    "print(f'COUNT: {q.get()}')"
   ]
  },
  {
   "cell_type": "markdown",
   "metadata": {},
   "source": [
    "# Ассинхронность"
   ]
  },
  {
   "cell_type": "code",
   "execution_count": 13,
   "metadata": {},
   "outputs": [],
   "source": [
    "import asyncio\n",
    "import random\n",
    "import time\n",
    "\n",
    "loop = asyncio.get_event_loop()\n",
    "\n",
    "async def sleep(delay):\n",
    "    await asyncio.sleep(delay)"
   ]
  },
  {
   "cell_type": "code",
   "execution_count": 14,
   "metadata": {},
   "outputs": [],
   "source": [
    "async def io_bound_task(group_name):\n",
    "    print(f'group is \"{group_name}\"')\n",
    "    await sleep(2)\n",
    "    count = random.randint(100, 200)\n",
    "    print(f'count {count}')\n",
    "    return count"
   ]
  },
  {
   "cell_type": "code",
   "execution_count": 15,
   "metadata": {},
   "outputs": [
    {
     "name": "stdout",
     "output_type": "stream",
     "text": [
      "group is \"Amir\"\n",
      "count 163\n",
      "group is \"Zarina\"\n",
      "count 109\n",
      "group is \"Misha\"\n",
      "count 140\n",
      "group is \"Ilya\"\n",
      "count 193\n",
      "group is \"Igor\"\n",
      "count 197\n",
      "COUNT: 802\n",
      "CPU times: user 8.01 ms, sys: 3.6 ms, total: 11.6 ms\n",
      "Wall time: 10 s\n"
     ]
    }
   ],
   "source": [
    "%%time\n",
    "\n",
    "# Последовательное выполнение\n",
    "async def main():\n",
    "    count = 0\n",
    "    for name in ['Amir', 'Zarina', 'Misha', 'Ilya', 'Igor']:\n",
    "        count += await io_bound_task(name)\n",
    "    print(f'COUNT: {count}')\n",
    "\n",
    "loop.run_until_complete(main())"
   ]
  },
  {
   "cell_type": "code",
   "execution_count": 16,
   "metadata": {},
   "outputs": [
    {
     "name": "stdout",
     "output_type": "stream",
     "text": [
      "group is \"Ilya\"\n",
      "group is \"Igor\"\n",
      "group is \"Zarina\"\n",
      "group is \"Amir\"\n",
      "group is \"Misha\"\n",
      "count 129\n",
      "count 146\n",
      "count 156\n",
      "count 197\n",
      "count 174\n",
      "COUNT: 802\n",
      "CPU times: user 2.89 ms, sys: 1.06 ms, total: 3.95 ms\n",
      "Wall time: 2.01 s\n"
     ]
    }
   ],
   "source": [
    "%%time\n",
    "\n",
    "# Совместное выполнение\n",
    "async def main():\n",
    "    tasks = []\n",
    "    count = 0\n",
    "    for name in ['Amir', 'Zarina', 'Misha', 'Ilya', 'Igor']:\n",
    "        tasks.append(io_bound_task(name))\n",
    "        \n",
    "    results = await asyncio.gather(*tasks)\n",
    "    print(f'COUNT: {sum(results)}')\n",
    "\n",
    "loop.run_until_complete(main())"
   ]
  },
  {
   "cell_type": "code",
   "execution_count": 17,
   "metadata": {},
   "outputs": [
    {
     "name": "stdout",
     "output_type": "stream",
     "text": [
      "group is \"Zarina\"\n",
      "count 112\n",
      "group is \"Igor\"\n",
      "count 168\n",
      "group is \"Misha\"\n",
      "count 185\n",
      "group is \"Amir\"\n",
      "count 160\n",
      "group is \"Ilya\"\n",
      "count 137\n",
      "COUNT: 762\n",
      "CPU times: user 6.3 ms, sys: 2.49 ms, total: 8.78 ms\n",
      "Wall time: 10 s\n"
     ]
    }
   ],
   "source": [
    "%%time\n",
    "\n",
    "# Блокирущая операция\n",
    "async def sleep(delay):\n",
    "    time.sleep(delay)\n",
    "\n",
    "loop.run_until_complete(main())"
   ]
  },
  {
   "cell_type": "code",
   "execution_count": 18,
   "metadata": {},
   "outputs": [
    {
     "name": "stdout",
     "output_type": "stream",
     "text": [
      "group is \"Misha\"\n",
      "group is \"Zarina\"\n",
      "group is \"Amir\"\n",
      "group is \"Ilya\"\n",
      "group is \"Igor\"\n",
      "Error\n"
     ]
    }
   ],
   "source": [
    "# Обработка ошибок\n",
    "async def sleep(delay):\n",
    "    await asyncio.sleep(delay)\n",
    "    \n",
    "async def error_task():\n",
    "    raise ValueError \n",
    "    \n",
    "async def main():\n",
    "    tasks = [error_task()]\n",
    "    for name in ['Amir', 'Zarina', 'Misha', 'Ilya', 'Igor']:\n",
    "        tasks.append(io_bound_task(name))\n",
    "        \n",
    "    try:\n",
    "        results = await asyncio.gather(*tasks)\n",
    "    except ValueError:\n",
    "        print('Error')\n",
    "    else:\n",
    "        print(f'COUNT: {sum(results)}')\n",
    "\n",
    "loop.run_until_complete(main())"
   ]
  },
  {
   "cell_type": "code",
   "execution_count": 19,
   "metadata": {},
   "outputs": [
    {
     "name": "stdout",
     "output_type": "stream",
     "text": [
      "group is \"Zarina\"\n",
      "group is \"Igor\"\n",
      "group is \"Misha\"\n",
      "group is \"Ilya\"\n",
      "group is \"Amir\"\n",
      "count 155\n",
      "count 149\n",
      "count 122\n",
      "count 183\n",
      "count 120\n",
      "count 160\n",
      "count 176\n",
      "count 152\n",
      "count 110\n",
      "count 146\n",
      "COUNT: 0\n"
     ]
    }
   ],
   "source": [
    "# Обработка ошибок\n",
    "async def main():\n",
    "    tasks = [error_task()]\n",
    "    \n",
    "    for name in ['Amir', 'Zarina', 'Misha', 'Ilya', 'Igor']:\n",
    "        tasks.append(io_bound_task(name))\n",
    "        \n",
    "    count = 0\n",
    "    results = await asyncio.gather(*tasks, return_exceptions=True)\n",
    "    # TODO Посчитать сумму участников \n",
    "            \n",
    "    print(f'COUNT: {count}')\n",
    "\n",
    "loop.run_until_complete(main())"
   ]
  },
  {
   "cell_type": "markdown",
   "metadata": {},
   "source": [
    "# Итераторы"
   ]
  },
  {
   "cell_type": "code",
   "execution_count": 20,
   "metadata": {},
   "outputs": [
    {
     "name": "stdout",
     "output_type": "stream",
     "text": [
      "1 -> 1\n",
      "2 -> 1\n",
      "3 -> 2\n",
      "4 -> 3\n",
      "5 -> 5\n",
      "6 -> 8\n",
      "7 -> 13\n",
      "8 -> 21\n",
      "9 -> 34\n",
      "10 -> 55\n",
      "11 -> 89\n",
      "12 -> 144\n",
      "13 -> 233\n",
      "14 -> 377\n",
      "15 -> 610\n",
      "16 -> 987\n",
      "17 -> 1597\n",
      "18 -> 2584\n",
      "19 -> 4181\n",
      "20 -> 6765\n"
     ]
    }
   ],
   "source": [
    "# Утиная типизация\n",
    "class FibIterator:\n",
    "    def __init__(self, n):\n",
    "        self.n = n\n",
    "        \n",
    "    def __iter__(self):\n",
    "        self.prev, self.cur = 0, 1\n",
    "        self.ind = 0\n",
    "        return self\n",
    "    \n",
    "    def __next__(self):\n",
    "        if self.ind == self.n:\n",
    "            raise StopIteration\n",
    "    \n",
    "        self.ind += 1\n",
    "        self.prev, self.cur = self.cur, self.cur + self.prev\n",
    "        return self.ind, self.prev\n",
    "\n",
    "for ind, num in FibIterator(20):\n",
    "    print(f'{ind} -> {num}')"
   ]
  },
  {
   "cell_type": "code",
   "execution_count": 21,
   "metadata": {},
   "outputs": [
    {
     "name": "stdout",
     "output_type": "stream",
     "text": [
      "1 -> 1\n",
      "2 -> 1\n",
      "3 -> 2\n",
      "4 -> 3\n",
      "5 -> 5\n",
      "6 -> 8\n",
      "7 -> 13\n",
      "8 -> 21\n",
      "9 -> 34\n",
      "10 -> 55\n",
      "11 -> 89\n",
      "12 -> 144\n",
      "13 -> 233\n",
      "14 -> 377\n",
      "15 -> 610\n",
      "16 -> 987\n",
      "17 -> 1597\n",
      "18 -> 2584\n",
      "19 -> 4181\n",
      "20 -> 6765\n",
      "EXIT FROM LOOP\n"
     ]
    }
   ],
   "source": [
    "# Реализуем свой цикл for\n",
    "fib_seq = iter(FibIterator(20))\n",
    "while True:\n",
    "    try:\n",
    "        ind, num = next(fib_seq)\n",
    "        print(f'{ind} -> {num}')\n",
    "    except StopIteration:\n",
    "        print('EXIT FROM LOOP')\n",
    "        break"
   ]
  },
  {
   "cell_type": "markdown",
   "metadata": {},
   "source": [
    "# Генераторы"
   ]
  },
  {
   "cell_type": "code",
   "execution_count": 22,
   "metadata": {},
   "outputs": [
    {
     "name": "stdout",
     "output_type": "stream",
     "text": [
      "1 -> 1\n",
      "2 -> 1\n",
      "3 -> 2\n",
      "4 -> 3\n",
      "5 -> 5\n",
      "6 -> 8\n",
      "7 -> 13\n",
      "8 -> 21\n",
      "9 -> 34\n",
      "10 -> 55\n",
      "11 -> 89\n",
      "12 -> 144\n",
      "13 -> 233\n",
      "14 -> 377\n",
      "15 -> 610\n",
      "16 -> 987\n",
      "17 -> 1597\n",
      "18 -> 2584\n",
      "19 -> 4181\n",
      "20 -> 6765\n"
     ]
    },
    {
     "data": {
      "text/plain": [
       "'OUT LOOP: -> 10946'"
      ]
     },
     "execution_count": 22,
     "metadata": {},
     "output_type": "execute_result"
    }
   ],
   "source": [
    "# Бесконечный генератор\n",
    "def fib_generator():\n",
    "    prev, cur = 0, 1\n",
    "    while True:\n",
    "        yield cur\n",
    "        prev, cur = cur, cur + prev\n",
    "\n",
    "fib_seq = fib_generator()\n",
    "for ind in range(1, 21):\n",
    "    print(f'{ind} -> {next(fib_seq)}')\n",
    "    \n",
    "f'OUT LOOP: -> {next(fib_seq)}'"
   ]
  },
  {
   "cell_type": "code",
   "execution_count": 23,
   "metadata": {},
   "outputs": [
    {
     "name": "stdout",
     "output_type": "stream",
     "text": [
      "1 -> 1\n",
      "2 -> 1\n",
      "3 -> 2\n",
      "4 -> 3\n",
      "5 -> 5\n",
      "6 -> 8\n",
      "7 -> 13\n",
      "8 -> 21\n",
      "9 -> 34\n",
      "10 -> 55\n",
      "11 -> 89\n",
      "12 -> 144\n",
      "13 -> 233\n",
      "14 -> 377\n",
      "15 -> 610\n",
      "16 -> 987\n",
      "17 -> 1597\n",
      "18 -> 2584\n",
      "19 -> 4181\n",
      "20 -> 6765\n"
     ]
    }
   ],
   "source": [
    "# Генератор с остановкой\n",
    "def fib_generator(n):\n",
    "    prev, cur = 0, 1\n",
    "    \n",
    "    ind = 1\n",
    "    while ind <= n:\n",
    "        yield ind, cur\n",
    "        prev, cur = cur, cur + prev\n",
    "        ind += 1\n",
    "\n",
    "for ind, val in fib_generator(20):\n",
    "    print(f'{ind} -> {val}')"
   ]
  },
  {
   "cell_type": "code",
   "execution_count": 24,
   "metadata": {},
   "outputs": [
    {
     "name": "stdout",
     "output_type": "stream",
     "text": [
      "1 -> 1\n",
      "2 -> 1\n",
      "3 -> 2\n",
      "4 -> 3\n",
      "5 -> 5\n",
      "6 -> 8\n",
      "7 -> 13\n",
      "8 -> 21\n",
      "9 -> 34\n",
      "10 -> 55\n",
      "11 -> 89\n",
      "12 -> 144\n",
      "13 -> 233\n",
      "14 -> 377\n",
      "15 -> 610\n",
      "16 -> 987\n",
      "17 -> 1597\n",
      "18 -> 2584\n",
      "19 -> 4181\n",
      "20 -> 6765\n",
      "EXIT FROM LOOP\n"
     ]
    }
   ],
   "source": [
    "# Генератор реализует интерфейс итератора\n",
    "fib_seq = fib_generator(20)\n",
    "while True:\n",
    "    try:\n",
    "        ind, num = next(fib_seq)\n",
    "        print(f'{ind} -> {num}')\n",
    "    except StopIteration:\n",
    "        print('EXIT FROM LOOP')\n",
    "        break"
   ]
  },
  {
   "cell_type": "code",
   "execution_count": null,
   "metadata": {},
   "outputs": [],
   "source": []
  }
 ],
 "metadata": {
  "kernelspec": {
   "display_name": "Python 3",
   "language": "python",
   "name": "python3"
  },
  "language_info": {
   "codemirror_mode": {
    "name": "ipython",
    "version": 3
   },
   "file_extension": ".py",
   "mimetype": "text/x-python",
   "name": "python",
   "nbconvert_exporter": "python",
   "pygments_lexer": "ipython3",
   "version": "3.6.4"
  }
 },
 "nbformat": 4,
 "nbformat_minor": 2
}
